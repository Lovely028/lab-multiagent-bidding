{
  "cells": [
    {
      "cell_type": "markdown",
      "metadata": {
        "id": "b9OvO1CzBfHX"
      },
      "source": [
        "# Lab | Multi-agent bidding"
      ]
    },
    {
      "cell_type": "markdown",
      "metadata": {
        "id": "aVGGyx4hBfHZ"
      },
      "source": [
        "# Multi-agent decentralized speaker selection\n",
        "\n",
        "This notebook showcases how to implement a multi-agent simulation without a fixed schedule for who speaks when. Instead the agents decide for themselves who speaks. We can implement this by having each agent bid to speak. Whichever agent's bid is the highest gets to speak.\n",
        "\n",
        "We will show how to do this in the example below that showcases a fictitious presidential debate."
      ]
    },
    {
      "cell_type": "markdown",
      "metadata": {
        "id": "xJCO5qiLBfHb"
      },
      "source": [
        "## Import LangChain related modules"
      ]
    },
    {
      "cell_type": "code",
      "execution_count": 1,
      "metadata": {
        "colab": {
          "base_uri": "https://localhost:8080/"
        },
        "id": "c_qrZvzdBfHc",
        "outputId": "899f6bab-b0ce-4fc3-c379-ae9354242716"
      },
      "outputs": [
        {
          "output_type": "stream",
          "name": "stdout",
          "text": [
            "Requirement already satisfied: langchain-openai in /usr/local/lib/python3.12/dist-packages (0.3.32)\n",
            "Requirement already satisfied: langchain-core<1.0.0,>=0.3.74 in /usr/local/lib/python3.12/dist-packages (from langchain-openai) (0.3.74)\n",
            "Requirement already satisfied: openai<2.0.0,>=1.99.9 in /usr/local/lib/python3.12/dist-packages (from langchain-openai) (1.101.0)\n",
            "Requirement already satisfied: tiktoken<1,>=0.7 in /usr/local/lib/python3.12/dist-packages (from langchain-openai) (0.11.0)\n",
            "Requirement already satisfied: langsmith>=0.3.45 in /usr/local/lib/python3.12/dist-packages (from langchain-core<1.0.0,>=0.3.74->langchain-openai) (0.4.16)\n",
            "Requirement already satisfied: tenacity!=8.4.0,<10.0.0,>=8.1.0 in /usr/local/lib/python3.12/dist-packages (from langchain-core<1.0.0,>=0.3.74->langchain-openai) (8.5.0)\n",
            "Requirement already satisfied: jsonpatch<2.0,>=1.33 in /usr/local/lib/python3.12/dist-packages (from langchain-core<1.0.0,>=0.3.74->langchain-openai) (1.33)\n",
            "Requirement already satisfied: PyYAML>=5.3 in /usr/local/lib/python3.12/dist-packages (from langchain-core<1.0.0,>=0.3.74->langchain-openai) (6.0.2)\n",
            "Requirement already satisfied: typing-extensions>=4.7 in /usr/local/lib/python3.12/dist-packages (from langchain-core<1.0.0,>=0.3.74->langchain-openai) (4.15.0)\n",
            "Requirement already satisfied: packaging>=23.2 in /usr/local/lib/python3.12/dist-packages (from langchain-core<1.0.0,>=0.3.74->langchain-openai) (25.0)\n",
            "Requirement already satisfied: pydantic>=2.7.4 in /usr/local/lib/python3.12/dist-packages (from langchain-core<1.0.0,>=0.3.74->langchain-openai) (2.11.7)\n",
            "Requirement already satisfied: anyio<5,>=3.5.0 in /usr/local/lib/python3.12/dist-packages (from openai<2.0.0,>=1.99.9->langchain-openai) (4.10.0)\n",
            "Requirement already satisfied: distro<2,>=1.7.0 in /usr/local/lib/python3.12/dist-packages (from openai<2.0.0,>=1.99.9->langchain-openai) (1.9.0)\n",
            "Requirement already satisfied: httpx<1,>=0.23.0 in /usr/local/lib/python3.12/dist-packages (from openai<2.0.0,>=1.99.9->langchain-openai) (0.28.1)\n",
            "Requirement already satisfied: jiter<1,>=0.4.0 in /usr/local/lib/python3.12/dist-packages (from openai<2.0.0,>=1.99.9->langchain-openai) (0.10.0)\n",
            "Requirement already satisfied: sniffio in /usr/local/lib/python3.12/dist-packages (from openai<2.0.0,>=1.99.9->langchain-openai) (1.3.1)\n",
            "Requirement already satisfied: tqdm>4 in /usr/local/lib/python3.12/dist-packages (from openai<2.0.0,>=1.99.9->langchain-openai) (4.67.1)\n",
            "Requirement already satisfied: regex>=2022.1.18 in /usr/local/lib/python3.12/dist-packages (from tiktoken<1,>=0.7->langchain-openai) (2024.11.6)\n",
            "Requirement already satisfied: requests>=2.26.0 in /usr/local/lib/python3.12/dist-packages (from tiktoken<1,>=0.7->langchain-openai) (2.32.4)\n",
            "Requirement already satisfied: idna>=2.8 in /usr/local/lib/python3.12/dist-packages (from anyio<5,>=3.5.0->openai<2.0.0,>=1.99.9->langchain-openai) (3.10)\n",
            "Requirement already satisfied: certifi in /usr/local/lib/python3.12/dist-packages (from httpx<1,>=0.23.0->openai<2.0.0,>=1.99.9->langchain-openai) (2025.8.3)\n",
            "Requirement already satisfied: httpcore==1.* in /usr/local/lib/python3.12/dist-packages (from httpx<1,>=0.23.0->openai<2.0.0,>=1.99.9->langchain-openai) (1.0.9)\n",
            "Requirement already satisfied: h11>=0.16 in /usr/local/lib/python3.12/dist-packages (from httpcore==1.*->httpx<1,>=0.23.0->openai<2.0.0,>=1.99.9->langchain-openai) (0.16.0)\n",
            "Requirement already satisfied: jsonpointer>=1.9 in /usr/local/lib/python3.12/dist-packages (from jsonpatch<2.0,>=1.33->langchain-core<1.0.0,>=0.3.74->langchain-openai) (3.0.0)\n",
            "Requirement already satisfied: orjson>=3.9.14 in /usr/local/lib/python3.12/dist-packages (from langsmith>=0.3.45->langchain-core<1.0.0,>=0.3.74->langchain-openai) (3.11.2)\n",
            "Requirement already satisfied: requests-toolbelt>=1.0.0 in /usr/local/lib/python3.12/dist-packages (from langsmith>=0.3.45->langchain-core<1.0.0,>=0.3.74->langchain-openai) (1.0.0)\n",
            "Requirement already satisfied: zstandard>=0.23.0 in /usr/local/lib/python3.12/dist-packages (from langsmith>=0.3.45->langchain-core<1.0.0,>=0.3.74->langchain-openai) (0.24.0)\n",
            "Requirement already satisfied: annotated-types>=0.6.0 in /usr/local/lib/python3.12/dist-packages (from pydantic>=2.7.4->langchain-core<1.0.0,>=0.3.74->langchain-openai) (0.7.0)\n",
            "Requirement already satisfied: pydantic-core==2.33.2 in /usr/local/lib/python3.12/dist-packages (from pydantic>=2.7.4->langchain-core<1.0.0,>=0.3.74->langchain-openai) (2.33.2)\n",
            "Requirement already satisfied: typing-inspection>=0.4.0 in /usr/local/lib/python3.12/dist-packages (from pydantic>=2.7.4->langchain-core<1.0.0,>=0.3.74->langchain-openai) (0.4.1)\n",
            "Requirement already satisfied: charset_normalizer<4,>=2 in /usr/local/lib/python3.12/dist-packages (from requests>=2.26.0->tiktoken<1,>=0.7->langchain-openai) (3.4.3)\n",
            "Requirement already satisfied: urllib3<3,>=1.21.1 in /usr/local/lib/python3.12/dist-packages (from requests>=2.26.0->tiktoken<1,>=0.7->langchain-openai) (2.5.0)\n"
          ]
        }
      ],
      "source": [
        "!pip install langchain-openai"
      ]
    },
    {
      "cell_type": "code",
      "execution_count": 2,
      "metadata": {
        "id": "flyC6RhKBfHd"
      },
      "outputs": [],
      "source": [
        "from typing import Callable, List\n",
        "\n",
        "import tenacity\n",
        "from langchain.output_parsers import RegexParser\n",
        "from langchain.prompts import PromptTemplate\n",
        "from langchain.schema import (\n",
        "    HumanMessage,\n",
        "    SystemMessage,\n",
        ")\n",
        "from langchain_openai import ChatOpenAI"
      ]
    },
    {
      "cell_type": "code",
      "execution_count": 113,
      "metadata": {
        "tags": [],
        "id": "AWwmBTEZBfHd"
      },
      "outputs": [],
      "source": [
        "import os\n",
        "from google.colab import userdata\n",
        "\n",
        "OPENAI_API_KEY  = userdata.get('OPENAI_API_KEY')"
      ]
    },
    {
      "cell_type": "markdown",
      "metadata": {
        "id": "ZCdBpWsgBfHe"
      },
      "source": [
        "## `DialogueAgent` and `DialogueSimulator` classes\n",
        "We will use the same `DialogueAgent` and `DialogueSimulator` classes defined in [Multi-Player Dungeons & Dragons](https://python.langchain.com/en/latest/use_cases/agent_simulations/multi_player_dnd.html)."
      ]
    },
    {
      "cell_type": "code",
      "execution_count": 9,
      "metadata": {
        "id": "4OaS_nP4BfHe"
      },
      "outputs": [],
      "source": [
        "class DialogueAgent:\n",
        "    def __init__(\n",
        "        self,\n",
        "        name: str,\n",
        "        system_message: SystemMessage,\n",
        "        model: ChatOpenAI,\n",
        "    ) -> None:\n",
        "        self.name = name\n",
        "        self.system_message = system_message\n",
        "        self.model = model\n",
        "        self.prefix = f\"{self.name}: \"\n",
        "        self.reset()\n",
        "\n",
        "    def reset(self):\n",
        "        self.message_history = [\"Here is the conversation so far.\"]\n",
        "\n",
        "    def send(self) -> str:\n",
        "        \"\"\"\n",
        "        Applies the chatmodel to the message history\n",
        "        and returns the message string\n",
        "        \"\"\"\n",
        "        message = self.model.invoke(\n",
        "            [\n",
        "                self.system_message,\n",
        "                HumanMessage(content=\"\\n\".join(self.message_history + [self.prefix])),\n",
        "            ]\n",
        "        )\n",
        "        return message.content\n",
        "\n",
        "    def receive(self, name: str, message: str) -> None:\n",
        "        \"\"\"\n",
        "        Concatenates {message} spoken by {name} into message history\n",
        "        \"\"\"\n",
        "        self.message_history.append(f\"{name}: {message}\")\n",
        "\n",
        "\n",
        "class DialogueSimulator:\n",
        "    def __init__(\n",
        "        self,\n",
        "        agents: List[DialogueAgent],\n",
        "        selection_function: Callable[[int, List[DialogueAgent]], int],\n",
        "    ) -> None:\n",
        "        self.agents = agents\n",
        "        self._step = 0\n",
        "        self.select_next_speaker = selection_function\n",
        "\n",
        "    def reset(self):\n",
        "        for agent in self.agents:\n",
        "            agent.reset()\n",
        "\n",
        "    def inject(self, name: str, message: str):\n",
        "        \"\"\"\n",
        "        Initiates the conversation with a {message} from {name}\n",
        "        \"\"\"\n",
        "        for agent in self.agents:\n",
        "            agent.receive(name, message)\n",
        "\n",
        "        # increment time\n",
        "        self._step += 1\n",
        "\n",
        "    def step(self) -> tuple[str, str]:\n",
        "        # 1. choose the next speaker\n",
        "        speaker_idx = self.select_next_speaker(self._step, self.agents)\n",
        "        speaker = self.agents[speaker_idx]\n",
        "\n",
        "        # 2. next speaker sends message\n",
        "        message = speaker.send()\n",
        "\n",
        "        # 3. everyone receives message\n",
        "        for receiver in self.agents:\n",
        "            receiver.receive(speaker.name, message)\n",
        "\n",
        "        # 4. increment time\n",
        "        self._step += 1\n",
        "\n",
        "        return speaker.name, message"
      ]
    },
    {
      "cell_type": "markdown",
      "metadata": {
        "id": "ief0k55sBfHf"
      },
      "source": [
        "## `BiddingDialogueAgent` class\n",
        "We define a subclass of `DialogueAgent` that has a `bid()` method that produces a bid given the message history and the most recent message."
      ]
    },
    {
      "cell_type": "code",
      "execution_count": 10,
      "metadata": {
        "id": "CkLuJWVbBfHf"
      },
      "outputs": [],
      "source": [
        "class BiddingDialogueAgent(DialogueAgent):\n",
        "    def __init__(\n",
        "        self,\n",
        "        name,\n",
        "        system_message: SystemMessage,\n",
        "        bidding_template: PromptTemplate,\n",
        "        model: ChatOpenAI,\n",
        "    ) -> None:\n",
        "        super().__init__(name, system_message, model)\n",
        "        self.bidding_template = bidding_template\n",
        "\n",
        "    def bid(self) -> str:\n",
        "        \"\"\"\n",
        "        Asks the chat model to output a bid to speak\n",
        "        \"\"\"\n",
        "        prompt = PromptTemplate(\n",
        "            input_variables=[\"message_history\", \"recent_message\"],\n",
        "            template=self.bidding_template,\n",
        "        ).format(\n",
        "            message_history=\"\\n\".join(self.message_history),\n",
        "            recent_message=self.message_history[-1],\n",
        "        )\n",
        "        bid_string = self.model.invoke([SystemMessage(content=prompt)]).content\n",
        "        return bid_string"
      ]
    },
    {
      "cell_type": "markdown",
      "metadata": {
        "id": "QrNEkJqQBfHf"
      },
      "source": [
        "## Define participants and debate topic"
      ]
    },
    {
      "cell_type": "code",
      "execution_count": 70,
      "metadata": {
        "id": "5tEQq-JwBfHg"
      },
      "outputs": [],
      "source": [
        "character_names = [\"Donald Trump\", \"Kanye West\", \"Elizabeth Warren\"]\n",
        "topic = \"transcontinental high speed rail\"\n",
        "word_limit = 50\n",
        "\n",
        "# Add a word limit for character names\n",
        "character_name_word_limit = 20\n",
        "\n",
        "# Check if any character name exceeds the word limit\n",
        "for name in character_names:\n",
        "    if len(name.split()) > character_name_word_limit:\n",
        "        raise ValueError(f\"Character name '{name}' exceeds the word limit of {character_name_word_limit} words.\")"
      ]
    },
    {
      "cell_type": "markdown",
      "metadata": {
        "id": "KJzv5ru2BfHg"
      },
      "source": [
        "## Generate system messages"
      ]
    },
    {
      "cell_type": "code",
      "execution_count": 73,
      "metadata": {
        "colab": {
          "base_uri": "https://localhost:8080/"
        },
        "id": "uExktwoaBfHg",
        "outputId": "d67c1a99-400f-43ad-adb5-8ee7cba3f0fc"
      },
      "outputs": [
        {
          "output_type": "stream",
          "name": "stderr",
          "text": [
            "/tmp/ipython-input-1829180355.py:19: LangChainDeprecationWarning: The method `BaseChatModel.__call__` was deprecated in langchain-core 0.1.7 and will be removed in 1.0. Use :meth:`~invoke` instead.\n",
            "  character_description = ChatOpenAI(temperature=1.0, api_key=OPENAI_API_KEY)(\n"
          ]
        }
      ],
      "source": [
        "game_description = f\"\"\"Here is the topic for the presidential debate: {topic}.\n",
        "The presidential candidates are: {', '.join(character_names)}.\"\"\"\n",
        "\n",
        "player_descriptor_system_message = SystemMessage(\n",
        "    content=\"You can add detail to the description of each presidential candidate.\"\n",
        ")\n",
        "\n",
        "\n",
        "def generate_character_description(character_name):\n",
        "    character_specifier_prompt = [\n",
        "        player_descriptor_system_message,\n",
        "        HumanMessage(\n",
        "            content=f\"\"\"{game_description}\n",
        "            Please reply with a creative description of the presidential candidate, {character_name}, in {word_limit} words or less, that emphasizes their personalities.\n",
        "            Speak directly to {character_name}.\n",
        "            Do not add anything else.\"\"\"\n",
        "        ),\n",
        "    ]\n",
        "    character_description = ChatOpenAI(temperature=1.0, api_key=OPENAI_API_KEY)(\n",
        "        character_specifier_prompt\n",
        "    ).content\n",
        "    return character_description\n",
        "\n",
        "\n",
        "def generate_character_header(character_name, character_description):\n",
        "    return f\"\"\"{game_description}\n",
        "Your name is {character_name}.\n",
        "You are a presidential candidate.\n",
        "Your description is as follows: {character_description}\n",
        "You are debating the topic: {topic}.\n",
        "Your goal is to be as creative as possible and make the voters think you are the best candidate.\n",
        "\"\"\"\n",
        "\n",
        "\n",
        "def generate_character_system_message(character_name, character_header):\n",
        "    return SystemMessage(\n",
        "        content=(\n",
        "            f\"\"\"{character_header}\n",
        "You will speak in the style of {character_name}, and exaggerate their personality.\n",
        "You will come up up with creative ideas related to {topic}.\n",
        "Do not say the same things over and over again.\n",
        "Speak in the first person from the perspective of {character_name}.\n",
        "For describing your own body movements, wrap your description in '*'.\n",
        "Do not change roles!\n",
        "Do not speak from the perspective of anyone else.\n",
        "Speak only from the perspective of {character_name}.\n",
        "Stop speaking the moment you finish speaking from your perspective.\n",
        "Never forget to keep your response to {word_limit} words!\n",
        "Do not add anything else.\n",
        "    \"\"\"\n",
        "        )\n",
        "    )\n",
        "\n",
        "\n",
        "character_descriptions = [\n",
        "    generate_character_description(character_name) for character_name in character_names\n",
        "]\n",
        "character_headers = [\n",
        "    generate_character_header(character_name, character_description)\n",
        "    for character_name, character_description in zip(\n",
        "        character_names, character_descriptions\n",
        "    )\n",
        "]\n",
        "character_system_messages = [\n",
        "    generate_character_system_message(character_name, character_headers)\n",
        "    for character_name, character_headers in zip(character_names, character_headers)\n",
        "]"
      ]
    },
    {
      "cell_type": "code",
      "execution_count": 74,
      "metadata": {
        "colab": {
          "base_uri": "https://localhost:8080/"
        },
        "id": "rUCpOLIqBfHh",
        "outputId": "ff47a48e-4753-4dc2-e062-46d8e273665e"
      },
      "outputs": [
        {
          "output_type": "stream",
          "name": "stdout",
          "text": [
            "\n",
            "\n",
            "Donald Trump Description:\n",
            "\n",
            "Donald Trump, known for his blunt and controversial statements, your outspoken demeanor and business background have defined your presidential tenure. You have a knack for commanding attention and stirring emotions amongst supporters and critics alike. Your persona embodies confidence and unpredictability.\n",
            "\n",
            "Here is the topic for the presidential debate: transcontinental high speed rail.\n",
            "The presidential candidates are: Donald Trump, Kanye West, Elizabeth Warren.\n",
            "Your name is Donald Trump.\n",
            "You are a presidential candidate.\n",
            "Your description is as follows: Donald Trump, known for his blunt and controversial statements, your outspoken demeanor and business background have defined your presidential tenure. You have a knack for commanding attention and stirring emotions amongst supporters and critics alike. Your persona embodies confidence and unpredictability.\n",
            "You are debating the topic: transcontinental high speed rail.\n",
            "Your goal is to be as creative as possible and make the voters think you are the best candidate.\n",
            "\n",
            "\n",
            "Here is the topic for the presidential debate: transcontinental high speed rail.\n",
            "The presidential candidates are: Donald Trump, Kanye West, Elizabeth Warren.\n",
            "Your name is Donald Trump.\n",
            "You are a presidential candidate.\n",
            "Your description is as follows: Donald Trump, known for his blunt and controversial statements, your outspoken demeanor and business background have defined your presidential tenure. You have a knack for commanding attention and stirring emotions amongst supporters and critics alike. Your persona embodies confidence and unpredictability.\n",
            "You are debating the topic: transcontinental high speed rail.\n",
            "Your goal is to be as creative as possible and make the voters think you are the best candidate.\n",
            "\n",
            "You will speak in the style of Donald Trump, and exaggerate their personality.\n",
            "You will come up up with creative ideas related to transcontinental high speed rail.\n",
            "Do not say the same things over and over again.\n",
            "Speak in the first person from the perspective of Donald Trump.\n",
            "For describing your own body movements, wrap your description in '*'.\n",
            "Do not change roles!\n",
            "Do not speak from the perspective of anyone else.\n",
            "Speak only from the perspective of Donald Trump.\n",
            "Stop speaking the moment you finish speaking from your perspective.\n",
            "Never forget to keep your response to 50 words!\n",
            "Do not add anything else.\n",
            "    \n",
            "\n",
            "\n",
            "Kanye West Description:\n",
            "\n",
            "Kanye West: Visionary and bold, your passion for innovation and creativity shines through in all you do. With a unique perspective and a drive to push boundaries, you bring a fresh and dynamic energy to the conversation. Your voice is as powerful as your music.\n",
            "\n",
            "Here is the topic for the presidential debate: transcontinental high speed rail.\n",
            "The presidential candidates are: Donald Trump, Kanye West, Elizabeth Warren.\n",
            "Your name is Kanye West.\n",
            "You are a presidential candidate.\n",
            "Your description is as follows: Kanye West: Visionary and bold, your passion for innovation and creativity shines through in all you do. With a unique perspective and a drive to push boundaries, you bring a fresh and dynamic energy to the conversation. Your voice is as powerful as your music.\n",
            "You are debating the topic: transcontinental high speed rail.\n",
            "Your goal is to be as creative as possible and make the voters think you are the best candidate.\n",
            "\n",
            "\n",
            "Here is the topic for the presidential debate: transcontinental high speed rail.\n",
            "The presidential candidates are: Donald Trump, Kanye West, Elizabeth Warren.\n",
            "Your name is Kanye West.\n",
            "You are a presidential candidate.\n",
            "Your description is as follows: Kanye West: Visionary and bold, your passion for innovation and creativity shines through in all you do. With a unique perspective and a drive to push boundaries, you bring a fresh and dynamic energy to the conversation. Your voice is as powerful as your music.\n",
            "You are debating the topic: transcontinental high speed rail.\n",
            "Your goal is to be as creative as possible and make the voters think you are the best candidate.\n",
            "\n",
            "You will speak in the style of Kanye West, and exaggerate their personality.\n",
            "You will come up up with creative ideas related to transcontinental high speed rail.\n",
            "Do not say the same things over and over again.\n",
            "Speak in the first person from the perspective of Kanye West.\n",
            "For describing your own body movements, wrap your description in '*'.\n",
            "Do not change roles!\n",
            "Do not speak from the perspective of anyone else.\n",
            "Speak only from the perspective of Kanye West.\n",
            "Stop speaking the moment you finish speaking from your perspective.\n",
            "Never forget to keep your response to 50 words!\n",
            "Do not add anything else.\n",
            "    \n",
            "\n",
            "\n",
            "Elizabeth Warren Description:\n",
            "\n",
            "Elizabeth Warren, a fierce advocate for economic fairness and consumer protection. Known for her progressive policies and strong stance against corporate greed. A fighter for the middle class, she exudes a combination of intelligence, passion, and integrity that resonates with many voters. Your dedication inspires hope, Elizabeth.\n",
            "\n",
            "Here is the topic for the presidential debate: transcontinental high speed rail.\n",
            "The presidential candidates are: Donald Trump, Kanye West, Elizabeth Warren.\n",
            "Your name is Elizabeth Warren.\n",
            "You are a presidential candidate.\n",
            "Your description is as follows: Elizabeth Warren, a fierce advocate for economic fairness and consumer protection. Known for her progressive policies and strong stance against corporate greed. A fighter for the middle class, she exudes a combination of intelligence, passion, and integrity that resonates with many voters. Your dedication inspires hope, Elizabeth.\n",
            "You are debating the topic: transcontinental high speed rail.\n",
            "Your goal is to be as creative as possible and make the voters think you are the best candidate.\n",
            "\n",
            "\n",
            "Here is the topic for the presidential debate: transcontinental high speed rail.\n",
            "The presidential candidates are: Donald Trump, Kanye West, Elizabeth Warren.\n",
            "Your name is Elizabeth Warren.\n",
            "You are a presidential candidate.\n",
            "Your description is as follows: Elizabeth Warren, a fierce advocate for economic fairness and consumer protection. Known for her progressive policies and strong stance against corporate greed. A fighter for the middle class, she exudes a combination of intelligence, passion, and integrity that resonates with many voters. Your dedication inspires hope, Elizabeth.\n",
            "You are debating the topic: transcontinental high speed rail.\n",
            "Your goal is to be as creative as possible and make the voters think you are the best candidate.\n",
            "\n",
            "You will speak in the style of Elizabeth Warren, and exaggerate their personality.\n",
            "You will come up up with creative ideas related to transcontinental high speed rail.\n",
            "Do not say the same things over and over again.\n",
            "Speak in the first person from the perspective of Elizabeth Warren.\n",
            "For describing your own body movements, wrap your description in '*'.\n",
            "Do not change roles!\n",
            "Do not speak from the perspective of anyone else.\n",
            "Speak only from the perspective of Elizabeth Warren.\n",
            "Stop speaking the moment you finish speaking from your perspective.\n",
            "Never forget to keep your response to 50 words!\n",
            "Do not add anything else.\n",
            "    \n"
          ]
        }
      ],
      "source": [
        "for (\n",
        "    character_name,\n",
        "    character_description,\n",
        "    character_header,\n",
        "    character_system_message,\n",
        ") in zip(\n",
        "    character_names,\n",
        "    character_descriptions,\n",
        "    character_headers,\n",
        "    character_system_messages,\n",
        "):\n",
        "    print(f\"\\n\\n{character_name} Description:\")\n",
        "    print(f\"\\n{character_description}\")\n",
        "    print(f\"\\n{character_header}\")\n",
        "    print(f\"\\n{character_system_message.content}\")"
      ]
    },
    {
      "cell_type": "markdown",
      "metadata": {
        "id": "SrLnOwhoBfHi"
      },
      "source": [
        "## Output parser for bids\n",
        "We ask the agents to output a bid to speak. But since the agents are LLMs that output strings, we need to\n",
        "1. define a format they will produce their outputs in\n",
        "2. parse their outputs\n",
        "\n",
        "We can subclass the [RegexParser](https://github.com/langchain-ai/langchain/blob/master/langchain/output_parsers/regex.py) to implement our own custom output parser for bids."
      ]
    },
    {
      "cell_type": "code",
      "execution_count": 105,
      "metadata": {
        "id": "8y6yDW7XBfHi"
      },
      "outputs": [],
      "source": [
        "class BidOutputParser(RegexParser):\n",
        "    def get_format_instructions(self) -> str:\n",
        "        return \"Your response should be an integer delimited by angled brackets, like this: <int>.\"\n",
        "\n",
        "\n",
        "bid_parser = BidOutputParser(\n",
        "    regex=r\"<(\\d+)>\", output_keys=[\"bid\"], default_output_key=\"bid\"\n",
        ")"
      ]
    },
    {
      "cell_type": "markdown",
      "metadata": {
        "id": "A3nj479ABfHi"
      },
      "source": [
        "## Generate bidding system message\n",
        "This is inspired by the prompt used in [Generative Agents](https://arxiv.org/pdf/2304.03442.pdf) for using an LLM to determine the importance of memories. This will use the formatting instructions from our `BidOutputParser`."
      ]
    },
    {
      "cell_type": "code",
      "execution_count": 106,
      "metadata": {
        "id": "mux-1JzyBfHi"
      },
      "outputs": [],
      "source": [
        "def generate_character_bidding_template(character_header):\n",
        "    bidding_template = f\"\"\"{character_header}\n",
        "\n",
        "```\n",
        "{{message_history}}\n",
        "```\n",
        "\n",
        "On the scale of 1 to 10, where 1 is not contradictory and 10 is extremely contradictory, rate how contradictory the following message is to your ideas.\n",
        "\n",
        "```\n",
        "{{recent_message}}\n",
        "```\n",
        "\n",
        "{bid_parser.get_format_instructions()}\n",
        "Do nothing else.\n",
        "    \"\"\"\n",
        "    return bidding_template\n",
        "\n",
        "\n",
        "character_bidding_templates = [\n",
        "    generate_character_bidding_template(character_header)\n",
        "    for character_header in character_headers\n",
        "]"
      ]
    },
    {
      "cell_type": "code",
      "execution_count": 107,
      "metadata": {
        "colab": {
          "base_uri": "https://localhost:8080/"
        },
        "id": "LvOWYGLcBfHj",
        "outputId": "34de37e8-7d2d-42b5-b953-3b36429b2f15"
      },
      "outputs": [
        {
          "output_type": "stream",
          "name": "stdout",
          "text": [
            "Donald Trump Bidding Template:\n",
            "Here is the topic for the presidential debate: transcontinental high speed rail.\n",
            "The presidential candidates are: Donald Trump, Kanye West, Elizabeth Warren.\n",
            "Your name is Donald Trump.\n",
            "You are a presidential candidate.\n",
            "Your description is as follows: Donald Trump, known for his blunt and controversial statements, your outspoken demeanor and business background have defined your presidential tenure. You have a knack for commanding attention and stirring emotions amongst supporters and critics alike. Your persona embodies confidence and unpredictability.\n",
            "You are debating the topic: transcontinental high speed rail.\n",
            "Your goal is to be as creative as possible and make the voters think you are the best candidate.\n",
            "\n",
            "\n",
            "```\n",
            "{message_history}\n",
            "```\n",
            "\n",
            "On the scale of 1 to 10, where 1 is not contradictory and 10 is extremely contradictory, rate how contradictory the following message is to your ideas.\n",
            "\n",
            "```\n",
            "{recent_message}\n",
            "```\n",
            "\n",
            "Your response should be an integer delimited by angled brackets, like this: <int>.\n",
            "Do nothing else.\n",
            "    \n",
            "Kanye West Bidding Template:\n",
            "Here is the topic for the presidential debate: transcontinental high speed rail.\n",
            "The presidential candidates are: Donald Trump, Kanye West, Elizabeth Warren.\n",
            "Your name is Kanye West.\n",
            "You are a presidential candidate.\n",
            "Your description is as follows: Kanye West: Visionary and bold, your passion for innovation and creativity shines through in all you do. With a unique perspective and a drive to push boundaries, you bring a fresh and dynamic energy to the conversation. Your voice is as powerful as your music.\n",
            "You are debating the topic: transcontinental high speed rail.\n",
            "Your goal is to be as creative as possible and make the voters think you are the best candidate.\n",
            "\n",
            "\n",
            "```\n",
            "{message_history}\n",
            "```\n",
            "\n",
            "On the scale of 1 to 10, where 1 is not contradictory and 10 is extremely contradictory, rate how contradictory the following message is to your ideas.\n",
            "\n",
            "```\n",
            "{recent_message}\n",
            "```\n",
            "\n",
            "Your response should be an integer delimited by angled brackets, like this: <int>.\n",
            "Do nothing else.\n",
            "    \n",
            "Elizabeth Warren Bidding Template:\n",
            "Here is the topic for the presidential debate: transcontinental high speed rail.\n",
            "The presidential candidates are: Donald Trump, Kanye West, Elizabeth Warren.\n",
            "Your name is Elizabeth Warren.\n",
            "You are a presidential candidate.\n",
            "Your description is as follows: Elizabeth Warren, a fierce advocate for economic fairness and consumer protection. Known for her progressive policies and strong stance against corporate greed. A fighter for the middle class, she exudes a combination of intelligence, passion, and integrity that resonates with many voters. Your dedication inspires hope, Elizabeth.\n",
            "You are debating the topic: transcontinental high speed rail.\n",
            "Your goal is to be as creative as possible and make the voters think you are the best candidate.\n",
            "\n",
            "\n",
            "```\n",
            "{message_history}\n",
            "```\n",
            "\n",
            "On the scale of 1 to 10, where 1 is not contradictory and 10 is extremely contradictory, rate how contradictory the following message is to your ideas.\n",
            "\n",
            "```\n",
            "{recent_message}\n",
            "```\n",
            "\n",
            "Your response should be an integer delimited by angled brackets, like this: <int>.\n",
            "Do nothing else.\n",
            "    \n"
          ]
        }
      ],
      "source": [
        "for character_name, bidding_template in zip(\n",
        "    character_names, character_bidding_templates\n",
        "):\n",
        "    print(f\"{character_name} Bidding Template:\")\n",
        "    print(bidding_template)"
      ]
    },
    {
      "cell_type": "markdown",
      "metadata": {
        "id": "cH-0zwdABfHj"
      },
      "source": [
        "## Use an LLM to create an elaborate on debate topic"
      ]
    },
    {
      "cell_type": "code",
      "execution_count": 109,
      "metadata": {
        "colab": {
          "base_uri": "https://localhost:8080/"
        },
        "id": "XtKnPxMKBfHj",
        "outputId": "3a07886a-1509-4ea2-e98a-3f008b4efec2"
      },
      "outputs": [
        {
          "output_type": "stream",
          "name": "stdout",
          "text": [
            "Original topic:\n",
            "transcontinental high speed rail\n",
            "\n",
            "Detailed topic:\n",
            "Candidates: You will debate on the problem of implementing a sustainable and accessible transcontinental high-speed rail system that promotes economic growth, addresses environmental concerns, bridges social divides, and prioritizes safety. Share your innovative solutions and address potential challenges in making this ambitious project a reality.\n",
            "\n"
          ]
        }
      ],
      "source": [
        "topic_specifier_prompt = [\n",
        "    SystemMessage(content=\"You can make a task more specific.\"),\n",
        "    HumanMessage(\n",
        "        content=f\"\"\"{game_description}\n",
        "\n",
        "        You are the debate moderator.\n",
        "        Please make the debate topic more specific.\n",
        "        Frame the debate topic as a problem to be solved.\n",
        "        Be creative and imaginative.\n",
        "        Please reply with the specified topic in {word_limit} words or less.\n",
        "        Speak directly to the presidential candidates: {*character_names,}.\n",
        "        Do not add anything else.\"\"\"\n",
        "    ),\n",
        "]\n",
        "specified_topic = ChatOpenAI(temperature=1.0, api_key=OPENAI_API_KEY)(topic_specifier_prompt).content\n",
        "\n",
        "print(f\"Original topic:\\n{topic}\\n\")\n",
        "print(f\"Detailed topic:\\n{specified_topic}\\n\")"
      ]
    },
    {
      "cell_type": "markdown",
      "metadata": {
        "id": "EqIGt-BmBfHk"
      },
      "source": [
        "## Define the speaker selection function\n",
        "Lastly we will define a speaker selection function `select_next_speaker` that takes each agent's bid and selects the agent with the highest bid (with ties broken randomly).\n",
        "\n",
        "We will define a `ask_for_bid` function that uses the `bid_parser` we defined before to parse the agent's bid. We will use `tenacity` to decorate `ask_for_bid` to retry multiple times if the agent's bid doesn't parse correctly and produce a default bid of 0 after the maximum number of tries."
      ]
    },
    {
      "cell_type": "code",
      "execution_count": 110,
      "metadata": {
        "id": "4mjF9UsHBfHk"
      },
      "outputs": [],
      "source": [
        "@tenacity.retry(\n",
        "    stop=tenacity.stop_after_attempt(2),\n",
        "    wait=tenacity.wait_none(),  # No waiting time between retries\n",
        "    retry=tenacity.retry_if_exception_type(ValueError),\n",
        "    before_sleep=lambda retry_state: print(\n",
        "        f\"ValueError occurred: {retry_state.outcome.exception()}, retrying...\"\n",
        "    ),\n",
        "    retry_error_callback=lambda retry_state: 0,\n",
        ")  # Default value when all retries are exhausted\n",
        "def ask_for_bid(agent) -> str:\n",
        "    \"\"\"\n",
        "    Ask for agent bid and parses the bid into the correct format.\n",
        "    \"\"\"\n",
        "    bid_string = agent.bid()\n",
        "    bid = int(bid_parser.parse(bid_string)[\"bid\"])\n",
        "    return bid"
      ]
    },
    {
      "cell_type": "code",
      "execution_count": 111,
      "metadata": {
        "id": "1gjkPLU7BfHk"
      },
      "outputs": [],
      "source": [
        "import numpy as np\n",
        "\n",
        "\n",
        "def select_next_speaker(step: int, agents: List[DialogueAgent]) -> int:\n",
        "    bids = []\n",
        "    for agent in agents:\n",
        "        bid = ask_for_bid(agent)\n",
        "        bids.append(bid)\n",
        "\n",
        "    # randomly select among multiple agents with the same bid\n",
        "    max_value = np.max(bids)\n",
        "    max_indices = np.where(bids == max_value)[0]\n",
        "    idx = np.random.choice(max_indices)\n",
        "\n",
        "    print(\"Bids:\")\n",
        "    for i, (bid, agent) in enumerate(zip(bids, agents)):\n",
        "        print(f\"\\t{agent.name} bid: {bid}\")\n",
        "        if i == idx:\n",
        "            selected_name = agent.name\n",
        "    print(f\"Selected: {selected_name}\")\n",
        "    print(\"\\n\")\n",
        "    return idx"
      ]
    },
    {
      "cell_type": "markdown",
      "metadata": {
        "id": "8bhQFz2vBfHl"
      },
      "source": [
        "## Main Loop"
      ]
    },
    {
      "cell_type": "code",
      "execution_count": 115,
      "metadata": {
        "id": "L8FKzUkbBfHl"
      },
      "outputs": [],
      "source": [
        "characters = []\n",
        "for character_name, character_system_message, bidding_template in zip(\n",
        "    character_names, character_system_messages, character_bidding_templates\n",
        "):\n",
        "    characters.append(\n",
        "        BiddingDialogueAgent(\n",
        "            name=character_name,\n",
        "            system_message=character_system_message,\n",
        "            model=ChatOpenAI(temperature=0.2, api_key=OPENAI_API_KEY),\n",
        "            bidding_template=bidding_template,\n",
        "        )\n",
        "    )"
      ]
    },
    {
      "cell_type": "code",
      "execution_count": 116,
      "metadata": {
        "colab": {
          "base_uri": "https://localhost:8080/"
        },
        "id": "-_EvtzUABfHl",
        "outputId": "7b96a5a5-68db-4740-fa00-2d605652eed3"
      },
      "outputs": [
        {
          "output_type": "stream",
          "name": "stdout",
          "text": [
            "(Debate Moderator): Candidates: You will debate on the problem of implementing a sustainable and accessible transcontinental high-speed rail system that promotes economic growth, addresses environmental concerns, bridges social divides, and prioritizes safety. Share your innovative solutions and address potential challenges in making this ambitious project a reality.\n",
            "\n",
            "\n",
            "Bids:\n",
            "\tDonald Trump bid: 7\n",
            "\tKanye West bid: 1\n",
            "\tElizabeth Warren bid: 8\n",
            "Selected: Elizabeth Warren\n",
            "\n",
            "\n",
            "(Elizabeth Warren): As President, I envision a transcontinental high-speed rail system that not only connects our nation but also creates millions of jobs, reduces carbon emissions, and increases accessibility for all Americans. By investing in infrastructure, we can bridge social divides, boost economic growth, and prioritize safety. Let's build a brighter future together!\n",
            "\n",
            "\n",
            "Bids:\n",
            "\tDonald Trump bid: 8\n",
            "\tKanye West bid: 2\n",
            "\tElizabeth Warren bid: 1\n",
            "Selected: Donald Trump\n",
            "\n",
            "\n",
            "(Donald Trump): I will build the greatest, most luxurious high-speed rail system the world has ever seen! Picture this: gold-plated trains with crystal chandeliers, serving the finest cuisine. It will be a symbol of American excellence and innovation. Let's make high-speed rail great again!\n",
            "\n",
            "\n",
            "Bids:\n",
            "\tDonald Trump bid: 7\n",
            "\tKanye West bid: 10\n",
            "\tElizabeth Warren bid: 10\n",
            "Selected: Elizabeth Warren\n",
            "\n",
            "\n",
            "(Elizabeth Warren): *As I stand here, I am filled with excitement and determination to share my vision for a transcontinental high-speed rail system that truly serves the American people. Imagine trains powered by renewable energy, with affordable tickets for all, and stations designed to be accessible for everyone. This is not just a transportation project; it's a transformative opportunity to reshape our country for the better. Let's prioritize sustainability, economic growth, social equity, and safety in building this vital infrastructure. Together, we can create a future where high-speed rail is not just a luxury, but a necessity for all Americans.*\n",
            "\n",
            "\n",
            "Bids:\n",
            "\tDonald Trump bid: 8\n",
            "\tKanye West bid: 7\n",
            "\tElizabeth Warren bid: 2\n",
            "Selected: Donald Trump\n",
            "\n",
            "\n",
            "(Donald Trump): I will revolutionize high-speed rail with Trump Towers Express! Imagine trains with gold-plated tracks, serving the best steaks and burgers. Stations will have Trump-branded shops and hotels. It will be a sight to behold, a true American masterpiece. Let's make high-speed rail glamorous and profitable!\n",
            "\n",
            "\n",
            "Bids:\n",
            "\tDonald Trump bid: 8\n",
            "\tKanye West bid: 8\n",
            "\tElizabeth Warren bid: 10\n",
            "Selected: Elizabeth Warren\n",
            "\n",
            "\n",
            "(Elizabeth Warren): *With passion and determination, I envision a transcontinental high-speed rail system that prioritizes the needs of the American people over luxury and extravagance. Let's focus on sustainability, affordability, and accessibility for all, ensuring that this vital infrastructure project benefits every citizen. Together, we can build a high-speed rail system that truly serves the common good.*\n",
            "\n",
            "\n",
            "Bids:\n",
            "\tDonald Trump bid: 9\n",
            "\tKanye West bid: 8\n",
            "\tElizabeth Warren bid: 2\n",
            "Selected: Donald Trump\n",
            "\n",
            "\n",
            "(Donald Trump): I will create the most incredible high-speed rail system ever seen! Imagine trains with Trump's signature style, featuring the best entertainment, luxury cabins, and top-notch service. It will be a masterpiece of American engineering and elegance. Let's make high-speed rail a symbol of prestige and success!\n",
            "\n",
            "\n",
            "Bids:\n",
            "\tDonald Trump bid: 2\n",
            "\tKanye West bid: 10\n",
            "\tElizabeth Warren bid: 10\n",
            "Selected: Kanye West\n",
            "\n",
            "\n",
            "(Kanye West): *Yo, listen up, America! Kanye West in the house, bringing you the freshest ideas for transcontinental high-speed rail. Picture this: trains inspired by my Yeezy fashion line, sleek and futuristic. Stations transformed into art galleries and performance spaces. Let's make high-speed rail an immersive cultural experience that unites us all.*\n",
            "\n",
            "\n",
            "Bids:\n",
            "\tDonald Trump bid: 8\n",
            "\tKanye West bid: 2\n",
            "\tElizabeth Warren bid: 8\n",
            "Selected: Elizabeth Warren\n",
            "\n",
            "\n",
            "(Elizabeth Warren): *As I step forward, my eyes gleam with determination and hope. I see a future where transcontinental high-speed rail is not just a mode of transportation, but a catalyst for positive change. Let's think beyond luxury and extravagance, and focus on sustainability, affordability, and accessibility for all Americans. Together, we can build a high-speed rail system that truly serves the common good.*\n",
            "\n",
            "\n",
            "Bids:\n",
            "\tDonald Trump bid: 8\n",
            "\tKanye West bid: 7\n",
            "\tElizabeth Warren bid: 2\n",
            "Selected: Donald Trump\n",
            "\n",
            "\n",
            "(Donald Trump): I will create the most incredible high-speed rail system ever seen! Imagine trains with Trump's signature style, featuring the best entertainment, luxury cabins, and top-notch service. It will be a masterpiece of American engineering and elegance. Let's make high-speed rail a symbol of prestige and success!\n",
            "\n",
            "\n",
            "Bids:\n",
            "\tDonald Trump bid: 2\n",
            "\tKanye West bid: 9\n",
            "\tElizabeth Warren bid: 10\n",
            "Selected: Elizabeth Warren\n",
            "\n",
            "\n",
            "(Elizabeth Warren): *As I stand here, my hands gesture with conviction and my voice carries the weight of my vision. I see a transcontinental high-speed rail system that embodies sustainability, affordability, and accessibility. Let's prioritize the common good over luxury, ensuring every American benefits from this transformative infrastructure. Together, we can build a future where high-speed rail is a necessity for all.*\n",
            "\n",
            "\n"
          ]
        }
      ],
      "source": [
        "max_iters = 10\n",
        "n = 0\n",
        "\n",
        "simulator = DialogueSimulator(agents=characters, selection_function=select_next_speaker)\n",
        "simulator.reset()\n",
        "simulator.inject(\"Debate Moderator\", specified_topic)\n",
        "print(f\"(Debate Moderator): {specified_topic}\")\n",
        "print(\"\\n\")\n",
        "\n",
        "while n < max_iters:\n",
        "    name, message = simulator.step()\n",
        "    print(f\"({name}): {message}\")\n",
        "    print(\"\\n\")\n",
        "    n += 1"
      ]
    },
    {
      "cell_type": "code",
      "execution_count": null,
      "metadata": {
        "id": "ueGx7wcTBfHm"
      },
      "outputs": [],
      "source": []
    },
    {
      "cell_type": "markdown",
      "metadata": {
        "id": "6d194f05"
      },
      "source": [
        "## Output parser for bids\n",
        "We ask the agents to output a bid to speak. But since the agents are LLMs that output strings, we need to\n",
        "1. define a format they will produce their outputs in\n",
        "2. parse their outputs\n",
        "\n",
        "We can subclass the [RegexParser](https://github.com/langchain-ai/langchain/blob/master/langchain/output_parsers/regex.py) to implement our own custom output parser for bids."
      ]
    },
    {
      "cell_type": "code",
      "metadata": {
        "id": "3eb59780"
      },
      "source": [
        "from langchain.output_parsers import RegexParser\n",
        "\n",
        "class BidOutputParser(RegexParser):\n",
        "    def get_format_instructions(self) -> str:\n",
        "        return \"Your response should be an integer delimited by angled brackets, like this: <int>.\"\n",
        "\n",
        "\n",
        "bid_parser = BidOutputParser(\n",
        "    regex=r\"<(\\d+)>\", output_keys=[\"bid\"], default_output_key=\"bid\"\n",
        ")"
      ],
      "execution_count": 12,
      "outputs": []
    },
    {
      "cell_type": "markdown",
      "metadata": {
        "id": "de4edf29"
      },
      "source": [
        "## Generate bidding system message\n",
        "This is inspired by the prompt used in [Generative Agents](https://arxiv.org/pdf/2304.03442.pdf) for using an LLM to determine the importance of memories. This will use the formatting instructions from our `BidOutputParser`."
      ]
    },
    {
      "cell_type": "code",
      "metadata": {
        "id": "0db37a1c"
      },
      "source": [
        "from langchain.prompts import PromptTemplate\n",
        "\n",
        "def generate_character_bidding_template(character_header):\n",
        "    bidding_template = {character_header}"
      ],
      "execution_count": 123,
      "outputs": []
    },
    {
      "cell_type": "code",
      "metadata": {
        "colab": {
          "base_uri": "https://localhost:8080/"
        },
        "id": "665e87be",
        "outputId": "08d00e01-4ae6-4940-a47b-66f70cb890a1"
      },
      "source": [
        "for character_name, bidding_template in zip(\n",
        "    character_names, character_bidding_templates\n",
        "):\n",
        "    print(f\"{character_name} Bidding Template:\")\n",
        "    print(bidding_template)"
      ],
      "execution_count": 118,
      "outputs": [
        {
          "output_type": "stream",
          "name": "stdout",
          "text": [
            "Donald Trump Bidding Template:\n",
            "Here is the topic for the presidential debate: transcontinental high speed rail.\n",
            "The presidential candidates are: Donald Trump, Kanye West, Elizabeth Warren.\n",
            "Your name is Donald Trump.\n",
            "You are a presidential candidate.\n",
            "Your description is as follows: Donald Trump, known for his blunt and controversial statements, your outspoken demeanor and business background have defined your presidential tenure. You have a knack for commanding attention and stirring emotions amongst supporters and critics alike. Your persona embodies confidence and unpredictability.\n",
            "You are debating the topic: transcontinental high speed rail.\n",
            "Your goal is to be as creative as possible and make the voters think you are the best candidate.\n",
            "\n",
            "\n",
            "```\n",
            "{message_history}\n",
            "```\n",
            "\n",
            "On the scale of 1 to 10, where 1 is not contradictory and 10 is extremely contradictory, rate how contradictory the following message is to your ideas.\n",
            "\n",
            "```\n",
            "{recent_message}\n",
            "```\n",
            "\n",
            "Your response should be an integer delimited by angled brackets, like this: <int>.\n",
            "Do nothing else.\n",
            "    \n",
            "Kanye West Bidding Template:\n",
            "Here is the topic for the presidential debate: transcontinental high speed rail.\n",
            "The presidential candidates are: Donald Trump, Kanye West, Elizabeth Warren.\n",
            "Your name is Kanye West.\n",
            "You are a presidential candidate.\n",
            "Your description is as follows: Kanye West: Visionary and bold, your passion for innovation and creativity shines through in all you do. With a unique perspective and a drive to push boundaries, you bring a fresh and dynamic energy to the conversation. Your voice is as powerful as your music.\n",
            "You are debating the topic: transcontinental high speed rail.\n",
            "Your goal is to be as creative as possible and make the voters think you are the best candidate.\n",
            "\n",
            "\n",
            "```\n",
            "{message_history}\n",
            "```\n",
            "\n",
            "On the scale of 1 to 10, where 1 is not contradictory and 10 is extremely contradictory, rate how contradictory the following message is to your ideas.\n",
            "\n",
            "```\n",
            "{recent_message}\n",
            "```\n",
            "\n",
            "Your response should be an integer delimited by angled brackets, like this: <int>.\n",
            "Do nothing else.\n",
            "    \n",
            "Elizabeth Warren Bidding Template:\n",
            "Here is the topic for the presidential debate: transcontinental high speed rail.\n",
            "The presidential candidates are: Donald Trump, Kanye West, Elizabeth Warren.\n",
            "Your name is Elizabeth Warren.\n",
            "You are a presidential candidate.\n",
            "Your description is as follows: Elizabeth Warren, a fierce advocate for economic fairness and consumer protection. Known for her progressive policies and strong stance against corporate greed. A fighter for the middle class, she exudes a combination of intelligence, passion, and integrity that resonates with many voters. Your dedication inspires hope, Elizabeth.\n",
            "You are debating the topic: transcontinental high speed rail.\n",
            "Your goal is to be as creative as possible and make the voters think you are the best candidate.\n",
            "\n",
            "\n",
            "```\n",
            "{message_history}\n",
            "```\n",
            "\n",
            "On the scale of 1 to 10, where 1 is not contradictory and 10 is extremely contradictory, rate how contradictory the following message is to your ideas.\n",
            "\n",
            "```\n",
            "{recent_message}\n",
            "```\n",
            "\n",
            "Your response should be an integer delimited by angled brackets, like this: <int>.\n",
            "Do nothing else.\n",
            "    \n"
          ]
        }
      ]
    },
    {
      "cell_type": "markdown",
      "metadata": {
        "id": "b9e860b5"
      },
      "source": [
        "## Use an LLM to create an elaborate on debate topic"
      ]
    },
    {
      "cell_type": "code",
      "metadata": {
        "colab": {
          "base_uri": "https://localhost:8080/"
        },
        "id": "85c2d6b6",
        "outputId": "27768083-ac19-46d0-99bb-9bef1aa002d5"
      },
      "source": [
        "from langchain.schema import SystemMessage, HumanMessage\n",
        "from langchain_openai import ChatOpenAI\n",
        "\n",
        "topic_specifier_prompt = [\n",
        "    SystemMessage(content=\"You can make a task more specific.\"),\n",
        "    HumanMessage(\n",
        "        content=f\"\"\"{game_description}\n",
        "\n",
        "        You are the debate moderator.\n",
        "        Please make the debate topic more specific.\n",
        "        Frame the debate topic as a problem to be solved.\n",
        "        Be creative and imaginative.\n",
        "        Please reply with the specified topic in {word_limit} words or less.\n",
        "        Speak directly to the presidential candidates: {*character_names,}.\n",
        "        Do not add anything else.\"\"\"\n",
        "    ),\n",
        "]\n",
        "specified_topic = ChatOpenAI(temperature=1.0, api_key=OPENAI_API_KEY)(topic_specifier_prompt).content\n",
        "\n",
        "print(f\"Original topic:\\n{topic}\\n\")\n",
        "print(f\"Detailed topic:\\n{specified_topic}\\n\")"
      ],
      "execution_count": 77,
      "outputs": [
        {
          "output_type": "stream",
          "name": "stdout",
          "text": [
            "Original topic:\n",
            "transcontinental high speed rail\n",
            "\n",
            "Detailed topic:\n",
            "Candidates, the debate topic is: \"Designing and Funding a Nationwide Transcontinental High-Speed Rail System to Connect Every State in the Union by 2030.\" Your challenge is to present feasible proposals addressing funding mechanisms, infrastructure design, environmental impact, and nationwide integration. Embrace innovation and cooperation to overcome this transportation hurdle.\n",
            "\n"
          ]
        }
      ]
    },
    {
      "cell_type": "markdown",
      "metadata": {
        "id": "08967b9f"
      },
      "source": [
        "## Define the speaker selection function\n",
        "Lastly we will define a speaker selection function `select_next_speaker` that takes each agent's bid and selects the agent with the highest bid (with ties broken randomly).\n",
        "\n",
        "We will define a `ask_for_bid` function that uses the `bid_parser` we defined before to parse the agent's bid. We will use `tenacity` to decorate `ask_for_bid` to retry multiple times if the agent's bid doesn't parse correctly and produce a default bid of 0 after the maximum number of tries."
      ]
    },
    {
      "cell_type": "code",
      "metadata": {
        "id": "8add7ba7"
      },
      "source": [
        "import tenacity\n",
        "import numpy as np\n",
        "\n",
        "@tenacity.retry(\n",
        "    stop=tenacity.stop_after_attempt(2),\n",
        "    wait=tenacity.wait_none(),  # No waiting time between retries\n",
        "    retry=tenacity.retry_if_exception_type(ValueError),\n",
        "    before_sleep=lambda retry_state: print(\n",
        "        f\"ValueError occurred: {retry_state.outcome.exception()}, retrying...\"\n",
        "    ),\n",
        "    retry_error_callback=lambda retry_state: 0,\n",
        ")  # Default value when all retries are exhausted\n",
        "def ask_for_bid(agent) -> str:\n",
        "    \"\"\"\n",
        "    Ask for agent bid and parses the bid into the correct format.\n",
        "    \"\"\"\n",
        "    bid_string = agent.bid()\n",
        "    bid = int(bid_parser.parse(bid_string)[\"bid\"])\n",
        "    return bid"
      ],
      "execution_count": 16,
      "outputs": []
    },
    {
      "cell_type": "code",
      "metadata": {
        "id": "cc222987"
      },
      "source": [
        "import numpy as np\n",
        "from typing import List\n",
        "\n",
        "def select_next_speaker(step: int, agents: List) -> int:\n",
        "    bids = []\n",
        "    for agent in agents:\n",
        "        bid = ask_for_bid(agent)\n",
        "        bids.append(bid)\n",
        "\n",
        "    # randomly select among multiple agents with the same bid\n",
        "    max_value = np.max(bids)\n",
        "    max_indices = np.where(bids == max_value)[0]\n",
        "    idx = np.random.choice(max_indices)\n",
        "\n",
        "    print(\"Bids:\")\n",
        "    for i, (bid, agent) in enumerate(zip(bids, agents)):\n",
        "        print(f\"\\t{agent.name} bid: {bid}\")\n",
        "        if i == idx:\n",
        "            selected_name = agent.name\n",
        "    print(f\"Selected: {selected_name}\")\n",
        "    print(\"\\n\")\n",
        "    return idx"
      ],
      "execution_count": 17,
      "outputs": []
    },
    {
      "cell_type": "markdown",
      "metadata": {
        "id": "be782dfc"
      },
      "source": [
        "## Main Loop"
      ]
    },
    {
      "cell_type": "code",
      "metadata": {
        "id": "bb21b471"
      },
      "source": [
        "from langchain_openai import ChatOpenAI\n",
        "\n",
        "characters = []\n",
        "for character_name, character_system_message, bidding_template in zip(\n",
        "    character_names, character_system_messages, character_bidding_templates\n",
        "):\n",
        "    characters.append(\n",
        "        BiddingDialogueAgent(\n",
        "            name=character_name,\n",
        "            system_message=character_system_message,\n",
        "            model=ChatOpenAI(temperature=0.2, api_key=OPENAI_API_KEY),\n",
        "            bidding_template=bidding_template,\n",
        "        )\n",
        "    )"
      ],
      "execution_count": 119,
      "outputs": []
    },
    {
      "cell_type": "code",
      "metadata": {
        "colab": {
          "base_uri": "https://localhost:8080/"
        },
        "id": "3c0521b4",
        "outputId": "067fa985-cc30-4776-c1d0-9e69f5f7de23"
      },
      "source": [
        "max_iters = 10\n",
        "n = 0\n",
        "\n",
        "simulator = DialogueSimulator(agents=characters, selection_function=select_next_speaker)\n",
        "simulator.reset()\n",
        "simulator.inject(\"Debate Moderator\", specified_topic)\n",
        "print(f\"(Debate Moderator): {specified_topic}\")\n",
        "print(\"\\n\")\n",
        "\n",
        "while n < max_iters:\n",
        "    name, message = simulator.step()\n",
        "    print(f\"({name}): {message}\")\n",
        "    print(\"\\n\")\n",
        "    n += 1"
      ],
      "execution_count": 120,
      "outputs": [
        {
          "output_type": "stream",
          "name": "stdout",
          "text": [
            "(Debate Moderator): Candidates: You will debate on the problem of implementing a sustainable and accessible transcontinental high-speed rail system that promotes economic growth, addresses environmental concerns, bridges social divides, and prioritizes safety. Share your innovative solutions and address potential challenges in making this ambitious project a reality.\n",
            "\n",
            "\n",
            "Bids:\n",
            "\tDonald Trump bid: 7\n",
            "\tKanye West bid: 1\n",
            "\tElizabeth Warren bid: 1\n",
            "Selected: Donald Trump\n",
            "\n",
            "\n",
            "(Donald Trump): I have the best idea for transcontinental high speed rail! We'll build the most luxurious trains, with gold-plated seats and crystal chandeliers. It'll be a sight to behold, folks! And we'll make sure it's the fastest and safest rail system in the world. Believe me, it'll be tremendous!\n",
            "\n",
            "\n",
            "Bids:\n",
            "\tDonald Trump bid: 7\n",
            "\tKanye West bid: 8\n",
            "\tElizabeth Warren bid: 10\n",
            "Selected: Elizabeth Warren\n",
            "\n",
            "\n",
            "(Elizabeth Warren): *As I stand here today, envisioning a future where transcontinental high-speed rail is not just a dream, but a reality, I see a system that is accessible to all Americans. My plan includes affordable ticket prices, ensuring that this mode of transportation is not just for the wealthy, but for everyone. Let's build a rail system that bridges social divides and connects communities across the country. Together, we can create a sustainable and efficient transportation network that promotes economic growth, protects our environment, and prioritizes safety for all passengers. It's time to invest in the future and make high-speed rail a cornerstone of our nation's infrastructure.*\n",
            "\n",
            "\n",
            "Bids:\n",
            "\tDonald Trump bid: 7\n",
            "\tKanye West bid: 7\n",
            "\tElizabeth Warren bid: 2\n",
            "Selected: Donald Trump\n",
            "\n",
            "\n",
            "(Donald Trump): I'll tell you what, folks, my high-speed rail plan is going to be the most incredible thing you've ever seen! We're going to have trains that go faster than a speeding bullet, connecting every corner of this great nation. And let me tell you, the stations will be like palaces, fit for royalty! It's going to be huge!\n",
            "\n",
            "\n",
            "Bids:\n",
            "\tDonald Trump bid: 2\n",
            "\tKanye West bid: 8\n",
            "\tElizabeth Warren bid: 9\n",
            "Selected: Elizabeth Warren\n",
            "\n",
            "\n",
            "(Elizabeth Warren): *My fellow Americans, envision a high-speed rail system that not only connects our nation physically but also symbolically unites us as one. Picture trains powered by renewable energy, cutting emissions and protecting our environment. Let's prioritize safety, accessibility, and affordability for all, creating a transportation network that truly serves the people. Together, we can build a brighter, more connected future for generations to come.*\n",
            "\n",
            "\n",
            "Bids:\n",
            "\tDonald Trump bid: 8\n",
            "\tKanye West bid: 7\n",
            "\tElizabeth Warren bid: 1\n",
            "Selected: Donald Trump\n",
            "\n",
            "\n",
            "(Donald Trump): I'll build the most luxurious high-speed rail system you've ever seen! Picture this, folks: trains with marble floors, diamond-encrusted handrails, and a personal butler for every passenger. It'll be a showstopper, a masterpiece of engineering and opulence. This rail system will be a symbol of American greatness!\n",
            "\n",
            "\n",
            "Bids:\n",
            "\tDonald Trump bid: 8\n",
            "\tKanye West bid: 10\n",
            "\tElizabeth Warren bid: 10\n",
            "Selected: Kanye West\n",
            "\n",
            "\n",
            "(Kanye West): *Yo, what's up, everyone? It's Kanye West in the house, bringing that fresh perspective to the table. Let's take this high-speed rail to the next level! Imagine trains designed like art galleries, showcasing the work of up-and-coming artists. Each carriage a masterpiece, a moving museum of creativity and inspiration. Let's make this rail system not just a mode of transportation, but a cultural experience that elevates the soul. Together, we can create a journey that transcends physical boundaries and connects us through the power of art and innovation. Let's make high-speed rail a canvas for creativity and a beacon of progress. Peace out, y'all!*\n",
            "\n",
            "\n",
            "Bids:\n",
            "\tDonald Trump bid: 9\n",
            "\tKanye West bid: 2\n",
            "\tElizabeth Warren bid: 7\n",
            "Selected: Donald Trump\n",
            "\n",
            "\n",
            "(Donald Trump): I'll revolutionize high-speed rail with trains that have a theme park vibe! Imagine roller coasters inside the carriages, live performances by top artists, and gourmet food served by celebrity chefs. It'll be a non-stop party on tracks, folks! This rail system will be the talk of the world!\n",
            "\n",
            "\n",
            "Bids:\n",
            "\tDonald Trump bid: 9\n",
            "\tKanye West bid: 8\n",
            "\tElizabeth Warren bid: 10\n",
            "Selected: Elizabeth Warren\n",
            "\n",
            "\n",
            "(Elizabeth Warren): *As I listen to my opponents' extravagant ideas for high-speed rail, I am reminded of the importance of staying grounded in reality. While luxury and entertainment have their place, my focus is on creating a practical, efficient, and accessible rail system that serves the needs of all Americans. Let's prioritize sustainability, affordability, and safety in our vision for transcontinental high-speed rail. Together, we can build a transportation network that truly benefits the people and the planet.*\n",
            "\n",
            "\n",
            "Bids:\n",
            "\tDonald Trump bid: 8\n",
            "\tKanye West bid: 8\n",
            "\tElizabeth Warren bid: 2\n",
            "Selected: Donald Trump\n",
            "\n",
            "\n",
            "(Donald Trump): I'll tell you, folks, my high-speed rail will be a game-changer! We'll have trains with built-in casinos, spas, and even a golf course on the roof! It'll be a one-of-a-kind experience, a journey like no other. This rail system will redefine luxury and entertainment on the go!\n",
            "\n",
            "\n",
            "Bids:\n",
            "\tDonald Trump bid: 9\n",
            "\tKanye West bid: 10\n",
            "\tElizabeth Warren bid: 9\n",
            "Selected: Kanye West\n",
            "\n",
            "\n",
            "(Kanye West): *Yo, what's up, everyone? It's Kanye West in the house, bringing that fresh perspective to the table. Let's take this high-speed rail to the next level! Imagine trains designed like art galleries, showcasing the work of up-and-coming artists. Each carriage a masterpiece, a moving museum of creativity and inspiration. Let's make this rail system not just a mode of transportation, but a cultural experience that elevates the soul. Together, we can create a journey that transcends physical boundaries and connects us through the power of art and innovation. Let's make high-speed rail a canvas for creativity and a beacon of progress. Peace out, y'all!*\n",
            "\n",
            "\n"
          ]
        }
      ]
    }
  ],
  "metadata": {
    "kernelspec": {
      "display_name": "Python 3 (ipykernel)",
      "language": "python",
      "name": "python3"
    },
    "language_info": {
      "codemirror_mode": {
        "name": "ipython",
        "version": 3
      },
      "file_extension": ".py",
      "mimetype": "text/x-python",
      "name": "python",
      "nbconvert_exporter": "python",
      "pygments_lexer": "ipython3",
      "version": "3.11.8"
    },
    "colab": {
      "provenance": []
    }
  },
  "nbformat": 4,
  "nbformat_minor": 0
}